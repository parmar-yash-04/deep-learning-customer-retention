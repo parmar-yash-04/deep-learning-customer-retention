{
 "cells": [
  {
   "cell_type": "code",
   "execution_count": 1,
   "id": "206d4fe4",
   "metadata": {
    "_cell_guid": "b1076dfc-b9ad-4769-8c92-a6c4dae69d19",
    "_uuid": "8f2839f25d086af736a60e9eeb907d3b93b6e0e5",
    "execution": {
     "iopub.execute_input": "2025-09-23T09:24:56.658308Z",
     "iopub.status.busy": "2025-09-23T09:24:56.657953Z",
     "iopub.status.idle": "2025-09-23T09:24:58.799825Z",
     "shell.execute_reply": "2025-09-23T09:24:58.798488Z"
    },
    "papermill": {
     "duration": 2.150707,
     "end_time": "2025-09-23T09:24:58.801895",
     "exception": false,
     "start_time": "2025-09-23T09:24:56.651188",
     "status": "completed"
    },
    "tags": []
   },
   "outputs": [
    {
     "name": "stdout",
     "output_type": "stream",
     "text": [
      "/kaggle/input/churn-modelling/Churn_Modelling.csv\n"
     ]
    }
   ],
   "source": [
    "# This Python 3 environment comes with many helpful analytics libraries installed\n",
    "# It is defined by the kaggle/python Docker image: https://github.com/kaggle/docker-python\n",
    "# For example, here's several helpful packages to load\n",
    "\n",
    "import numpy as np # linear algebra\n",
    "import pandas as pd # data processing, CSV file I/O (e.g. pd.read_csv)\n",
    "\n",
    "# Input data files are available in the read-only \"../input/\" directory\n",
    "# For example, running this (by clicking run or pressing Shift+Enter) will list all files under the input directory\n",
    "\n",
    "import os\n",
    "for dirname, _, filenames in os.walk('/kaggle/input'):\n",
    "    for filename in filenames:\n",
    "        print(os.path.join(dirname, filename))\n",
    "\n",
    "# You can write up to 20GB to the current directory (/kaggle/working/) that gets preserved as output when you create a version using \"Save & Run All\" \n",
    "# You can also write temporary files to /kaggle/temp/, but they won't be saved outside of the current session"
   ]
  },
  {
   "cell_type": "code",
   "execution_count": 2,
   "id": "928d110b",
   "metadata": {
    "execution": {
     "iopub.execute_input": "2025-09-23T09:24:58.813521Z",
     "iopub.status.busy": "2025-09-23T09:24:58.813014Z",
     "iopub.status.idle": "2025-09-23T09:24:58.871285Z",
     "shell.execute_reply": "2025-09-23T09:24:58.870264Z"
    },
    "papermill": {
     "duration": 0.066121,
     "end_time": "2025-09-23T09:24:58.873318",
     "exception": false,
     "start_time": "2025-09-23T09:24:58.807197",
     "status": "completed"
    },
    "tags": []
   },
   "outputs": [],
   "source": [
    "df = pd.read_csv('/kaggle/input/churn-modelling/Churn_Modelling.csv')"
   ]
  },
  {
   "cell_type": "code",
   "execution_count": 3,
   "id": "35f53683",
   "metadata": {
    "execution": {
     "iopub.execute_input": "2025-09-23T09:24:58.883889Z",
     "iopub.status.busy": "2025-09-23T09:24:58.883586Z",
     "iopub.status.idle": "2025-09-23T09:24:58.912399Z",
     "shell.execute_reply": "2025-09-23T09:24:58.911455Z"
    },
    "papermill": {
     "duration": 0.036091,
     "end_time": "2025-09-23T09:24:58.914145",
     "exception": false,
     "start_time": "2025-09-23T09:24:58.878054",
     "status": "completed"
    },
    "tags": []
   },
   "outputs": [
    {
     "data": {
      "text/html": [
       "<div>\n",
       "<style scoped>\n",
       "    .dataframe tbody tr th:only-of-type {\n",
       "        vertical-align: middle;\n",
       "    }\n",
       "\n",
       "    .dataframe tbody tr th {\n",
       "        vertical-align: top;\n",
       "    }\n",
       "\n",
       "    .dataframe thead th {\n",
       "        text-align: right;\n",
       "    }\n",
       "</style>\n",
       "<table border=\"1\" class=\"dataframe\">\n",
       "  <thead>\n",
       "    <tr style=\"text-align: right;\">\n",
       "      <th></th>\n",
       "      <th>RowNumber</th>\n",
       "      <th>CustomerId</th>\n",
       "      <th>Surname</th>\n",
       "      <th>CreditScore</th>\n",
       "      <th>Geography</th>\n",
       "      <th>Gender</th>\n",
       "      <th>Age</th>\n",
       "      <th>Tenure</th>\n",
       "      <th>Balance</th>\n",
       "      <th>NumOfProducts</th>\n",
       "      <th>HasCrCard</th>\n",
       "      <th>IsActiveMember</th>\n",
       "      <th>EstimatedSalary</th>\n",
       "      <th>Exited</th>\n",
       "    </tr>\n",
       "  </thead>\n",
       "  <tbody>\n",
       "    <tr>\n",
       "      <th>0</th>\n",
       "      <td>1</td>\n",
       "      <td>15634602</td>\n",
       "      <td>Hargrave</td>\n",
       "      <td>619</td>\n",
       "      <td>France</td>\n",
       "      <td>Female</td>\n",
       "      <td>42</td>\n",
       "      <td>2</td>\n",
       "      <td>0.00</td>\n",
       "      <td>1</td>\n",
       "      <td>1</td>\n",
       "      <td>1</td>\n",
       "      <td>101348.88</td>\n",
       "      <td>1</td>\n",
       "    </tr>\n",
       "    <tr>\n",
       "      <th>1</th>\n",
       "      <td>2</td>\n",
       "      <td>15647311</td>\n",
       "      <td>Hill</td>\n",
       "      <td>608</td>\n",
       "      <td>Spain</td>\n",
       "      <td>Female</td>\n",
       "      <td>41</td>\n",
       "      <td>1</td>\n",
       "      <td>83807.86</td>\n",
       "      <td>1</td>\n",
       "      <td>0</td>\n",
       "      <td>1</td>\n",
       "      <td>112542.58</td>\n",
       "      <td>0</td>\n",
       "    </tr>\n",
       "    <tr>\n",
       "      <th>2</th>\n",
       "      <td>3</td>\n",
       "      <td>15619304</td>\n",
       "      <td>Onio</td>\n",
       "      <td>502</td>\n",
       "      <td>France</td>\n",
       "      <td>Female</td>\n",
       "      <td>42</td>\n",
       "      <td>8</td>\n",
       "      <td>159660.80</td>\n",
       "      <td>3</td>\n",
       "      <td>1</td>\n",
       "      <td>0</td>\n",
       "      <td>113931.57</td>\n",
       "      <td>1</td>\n",
       "    </tr>\n",
       "    <tr>\n",
       "      <th>3</th>\n",
       "      <td>4</td>\n",
       "      <td>15701354</td>\n",
       "      <td>Boni</td>\n",
       "      <td>699</td>\n",
       "      <td>France</td>\n",
       "      <td>Female</td>\n",
       "      <td>39</td>\n",
       "      <td>1</td>\n",
       "      <td>0.00</td>\n",
       "      <td>2</td>\n",
       "      <td>0</td>\n",
       "      <td>0</td>\n",
       "      <td>93826.63</td>\n",
       "      <td>0</td>\n",
       "    </tr>\n",
       "    <tr>\n",
       "      <th>4</th>\n",
       "      <td>5</td>\n",
       "      <td>15737888</td>\n",
       "      <td>Mitchell</td>\n",
       "      <td>850</td>\n",
       "      <td>Spain</td>\n",
       "      <td>Female</td>\n",
       "      <td>43</td>\n",
       "      <td>2</td>\n",
       "      <td>125510.82</td>\n",
       "      <td>1</td>\n",
       "      <td>1</td>\n",
       "      <td>1</td>\n",
       "      <td>79084.10</td>\n",
       "      <td>0</td>\n",
       "    </tr>\n",
       "  </tbody>\n",
       "</table>\n",
       "</div>"
      ],
      "text/plain": [
       "   RowNumber  CustomerId   Surname  CreditScore Geography  Gender  Age  \\\n",
       "0          1    15634602  Hargrave          619    France  Female   42   \n",
       "1          2    15647311      Hill          608     Spain  Female   41   \n",
       "2          3    15619304      Onio          502    France  Female   42   \n",
       "3          4    15701354      Boni          699    France  Female   39   \n",
       "4          5    15737888  Mitchell          850     Spain  Female   43   \n",
       "\n",
       "   Tenure    Balance  NumOfProducts  HasCrCard  IsActiveMember  \\\n",
       "0       2       0.00              1          1               1   \n",
       "1       1   83807.86              1          0               1   \n",
       "2       8  159660.80              3          1               0   \n",
       "3       1       0.00              2          0               0   \n",
       "4       2  125510.82              1          1               1   \n",
       "\n",
       "   EstimatedSalary  Exited  \n",
       "0        101348.88       1  \n",
       "1        112542.58       0  \n",
       "2        113931.57       1  \n",
       "3         93826.63       0  \n",
       "4         79084.10       0  "
      ]
     },
     "execution_count": 3,
     "metadata": {},
     "output_type": "execute_result"
    }
   ],
   "source": [
    "df.head()"
   ]
  },
  {
   "cell_type": "code",
   "execution_count": 4,
   "id": "d7a30fc8",
   "metadata": {
    "execution": {
     "iopub.execute_input": "2025-09-23T09:24:58.925502Z",
     "iopub.status.busy": "2025-09-23T09:24:58.925121Z",
     "iopub.status.idle": "2025-09-23T09:24:58.937046Z",
     "shell.execute_reply": "2025-09-23T09:24:58.935977Z"
    },
    "papermill": {
     "duration": 0.01966,
     "end_time": "2025-09-23T09:24:58.938973",
     "exception": false,
     "start_time": "2025-09-23T09:24:58.919313",
     "status": "completed"
    },
    "tags": []
   },
   "outputs": [],
   "source": [
    "x=df.iloc[:,3:13]\n",
    "y=df.iloc[:,13]"
   ]
  },
  {
   "cell_type": "code",
   "execution_count": 5,
   "id": "80fc6096",
   "metadata": {
    "execution": {
     "iopub.execute_input": "2025-09-23T09:24:58.952545Z",
     "iopub.status.busy": "2025-09-23T09:24:58.951303Z",
     "iopub.status.idle": "2025-09-23T09:24:58.964192Z",
     "shell.execute_reply": "2025-09-23T09:24:58.963203Z"
    },
    "papermill": {
     "duration": 0.022179,
     "end_time": "2025-09-23T09:24:58.966325",
     "exception": false,
     "start_time": "2025-09-23T09:24:58.944146",
     "status": "completed"
    },
    "tags": []
   },
   "outputs": [
    {
     "data": {
      "text/html": [
       "<div>\n",
       "<style scoped>\n",
       "    .dataframe tbody tr th:only-of-type {\n",
       "        vertical-align: middle;\n",
       "    }\n",
       "\n",
       "    .dataframe tbody tr th {\n",
       "        vertical-align: top;\n",
       "    }\n",
       "\n",
       "    .dataframe thead th {\n",
       "        text-align: right;\n",
       "    }\n",
       "</style>\n",
       "<table border=\"1\" class=\"dataframe\">\n",
       "  <thead>\n",
       "    <tr style=\"text-align: right;\">\n",
       "      <th></th>\n",
       "      <th>CreditScore</th>\n",
       "      <th>Geography</th>\n",
       "      <th>Gender</th>\n",
       "      <th>Age</th>\n",
       "      <th>Tenure</th>\n",
       "      <th>Balance</th>\n",
       "      <th>NumOfProducts</th>\n",
       "      <th>HasCrCard</th>\n",
       "      <th>IsActiveMember</th>\n",
       "      <th>EstimatedSalary</th>\n",
       "    </tr>\n",
       "  </thead>\n",
       "  <tbody>\n",
       "    <tr>\n",
       "      <th>0</th>\n",
       "      <td>619</td>\n",
       "      <td>France</td>\n",
       "      <td>Female</td>\n",
       "      <td>42</td>\n",
       "      <td>2</td>\n",
       "      <td>0.00</td>\n",
       "      <td>1</td>\n",
       "      <td>1</td>\n",
       "      <td>1</td>\n",
       "      <td>101348.88</td>\n",
       "    </tr>\n",
       "    <tr>\n",
       "      <th>1</th>\n",
       "      <td>608</td>\n",
       "      <td>Spain</td>\n",
       "      <td>Female</td>\n",
       "      <td>41</td>\n",
       "      <td>1</td>\n",
       "      <td>83807.86</td>\n",
       "      <td>1</td>\n",
       "      <td>0</td>\n",
       "      <td>1</td>\n",
       "      <td>112542.58</td>\n",
       "    </tr>\n",
       "    <tr>\n",
       "      <th>2</th>\n",
       "      <td>502</td>\n",
       "      <td>France</td>\n",
       "      <td>Female</td>\n",
       "      <td>42</td>\n",
       "      <td>8</td>\n",
       "      <td>159660.80</td>\n",
       "      <td>3</td>\n",
       "      <td>1</td>\n",
       "      <td>0</td>\n",
       "      <td>113931.57</td>\n",
       "    </tr>\n",
       "    <tr>\n",
       "      <th>3</th>\n",
       "      <td>699</td>\n",
       "      <td>France</td>\n",
       "      <td>Female</td>\n",
       "      <td>39</td>\n",
       "      <td>1</td>\n",
       "      <td>0.00</td>\n",
       "      <td>2</td>\n",
       "      <td>0</td>\n",
       "      <td>0</td>\n",
       "      <td>93826.63</td>\n",
       "    </tr>\n",
       "    <tr>\n",
       "      <th>4</th>\n",
       "      <td>850</td>\n",
       "      <td>Spain</td>\n",
       "      <td>Female</td>\n",
       "      <td>43</td>\n",
       "      <td>2</td>\n",
       "      <td>125510.82</td>\n",
       "      <td>1</td>\n",
       "      <td>1</td>\n",
       "      <td>1</td>\n",
       "      <td>79084.10</td>\n",
       "    </tr>\n",
       "  </tbody>\n",
       "</table>\n",
       "</div>"
      ],
      "text/plain": [
       "   CreditScore Geography  Gender  Age  Tenure    Balance  NumOfProducts  \\\n",
       "0          619    France  Female   42       2       0.00              1   \n",
       "1          608     Spain  Female   41       1   83807.86              1   \n",
       "2          502    France  Female   42       8  159660.80              3   \n",
       "3          699    France  Female   39       1       0.00              2   \n",
       "4          850     Spain  Female   43       2  125510.82              1   \n",
       "\n",
       "   HasCrCard  IsActiveMember  EstimatedSalary  \n",
       "0          1               1        101348.88  \n",
       "1          0               1        112542.58  \n",
       "2          1               0        113931.57  \n",
       "3          0               0         93826.63  \n",
       "4          1               1         79084.10  "
      ]
     },
     "execution_count": 5,
     "metadata": {},
     "output_type": "execute_result"
    }
   ],
   "source": [
    "x.head()"
   ]
  },
  {
   "cell_type": "code",
   "execution_count": 6,
   "id": "c146cccc",
   "metadata": {
    "execution": {
     "iopub.execute_input": "2025-09-23T09:24:58.977849Z",
     "iopub.status.busy": "2025-09-23T09:24:58.977548Z",
     "iopub.status.idle": "2025-09-23T09:24:58.984290Z",
     "shell.execute_reply": "2025-09-23T09:24:58.983229Z"
    },
    "papermill": {
     "duration": 0.014704,
     "end_time": "2025-09-23T09:24:58.986210",
     "exception": false,
     "start_time": "2025-09-23T09:24:58.971506",
     "status": "completed"
    },
    "tags": []
   },
   "outputs": [
    {
     "data": {
      "text/plain": [
       "0    1\n",
       "1    0\n",
       "2    1\n",
       "3    0\n",
       "4    0\n",
       "Name: Exited, dtype: int64"
      ]
     },
     "execution_count": 6,
     "metadata": {},
     "output_type": "execute_result"
    }
   ],
   "source": [
    "y.head()"
   ]
  },
  {
   "cell_type": "code",
   "execution_count": 7,
   "id": "01702ba8",
   "metadata": {
    "execution": {
     "iopub.execute_input": "2025-09-23T09:24:58.997951Z",
     "iopub.status.busy": "2025-09-23T09:24:58.997638Z",
     "iopub.status.idle": "2025-09-23T09:24:59.014282Z",
     "shell.execute_reply": "2025-09-23T09:24:59.013247Z"
    },
    "papermill": {
     "duration": 0.024654,
     "end_time": "2025-09-23T09:24:59.016081",
     "exception": false,
     "start_time": "2025-09-23T09:24:58.991427",
     "status": "completed"
    },
    "tags": []
   },
   "outputs": [],
   "source": [
    "Geography=pd.get_dummies(x['Geography'],drop_first=True,dtype=int)\n",
    "Gender=pd.get_dummies(x['Gender'],drop_first=True,dtype=int)"
   ]
  },
  {
   "cell_type": "code",
   "execution_count": 8,
   "id": "749bf7a1",
   "metadata": {
    "execution": {
     "iopub.execute_input": "2025-09-23T09:24:59.028982Z",
     "iopub.status.busy": "2025-09-23T09:24:59.028671Z",
     "iopub.status.idle": "2025-09-23T09:24:59.034471Z",
     "shell.execute_reply": "2025-09-23T09:24:59.033619Z"
    },
    "papermill": {
     "duration": 0.014304,
     "end_time": "2025-09-23T09:24:59.036002",
     "exception": false,
     "start_time": "2025-09-23T09:24:59.021698",
     "status": "completed"
    },
    "tags": []
   },
   "outputs": [],
   "source": [
    "x=x.drop(['Geography','Gender'],axis=1)"
   ]
  },
  {
   "cell_type": "code",
   "execution_count": 9,
   "id": "946a3407",
   "metadata": {
    "execution": {
     "iopub.execute_input": "2025-09-23T09:24:59.047801Z",
     "iopub.status.busy": "2025-09-23T09:24:59.047487Z",
     "iopub.status.idle": "2025-09-23T09:24:59.059191Z",
     "shell.execute_reply": "2025-09-23T09:24:59.058104Z"
    },
    "papermill": {
     "duration": 0.019789,
     "end_time": "2025-09-23T09:24:59.061115",
     "exception": false,
     "start_time": "2025-09-23T09:24:59.041326",
     "status": "completed"
    },
    "tags": []
   },
   "outputs": [
    {
     "data": {
      "text/html": [
       "<div>\n",
       "<style scoped>\n",
       "    .dataframe tbody tr th:only-of-type {\n",
       "        vertical-align: middle;\n",
       "    }\n",
       "\n",
       "    .dataframe tbody tr th {\n",
       "        vertical-align: top;\n",
       "    }\n",
       "\n",
       "    .dataframe thead th {\n",
       "        text-align: right;\n",
       "    }\n",
       "</style>\n",
       "<table border=\"1\" class=\"dataframe\">\n",
       "  <thead>\n",
       "    <tr style=\"text-align: right;\">\n",
       "      <th></th>\n",
       "      <th>CreditScore</th>\n",
       "      <th>Age</th>\n",
       "      <th>Tenure</th>\n",
       "      <th>Balance</th>\n",
       "      <th>NumOfProducts</th>\n",
       "      <th>HasCrCard</th>\n",
       "      <th>IsActiveMember</th>\n",
       "      <th>EstimatedSalary</th>\n",
       "    </tr>\n",
       "  </thead>\n",
       "  <tbody>\n",
       "    <tr>\n",
       "      <th>0</th>\n",
       "      <td>619</td>\n",
       "      <td>42</td>\n",
       "      <td>2</td>\n",
       "      <td>0.00</td>\n",
       "      <td>1</td>\n",
       "      <td>1</td>\n",
       "      <td>1</td>\n",
       "      <td>101348.88</td>\n",
       "    </tr>\n",
       "    <tr>\n",
       "      <th>1</th>\n",
       "      <td>608</td>\n",
       "      <td>41</td>\n",
       "      <td>1</td>\n",
       "      <td>83807.86</td>\n",
       "      <td>1</td>\n",
       "      <td>0</td>\n",
       "      <td>1</td>\n",
       "      <td>112542.58</td>\n",
       "    </tr>\n",
       "    <tr>\n",
       "      <th>2</th>\n",
       "      <td>502</td>\n",
       "      <td>42</td>\n",
       "      <td>8</td>\n",
       "      <td>159660.80</td>\n",
       "      <td>3</td>\n",
       "      <td>1</td>\n",
       "      <td>0</td>\n",
       "      <td>113931.57</td>\n",
       "    </tr>\n",
       "    <tr>\n",
       "      <th>3</th>\n",
       "      <td>699</td>\n",
       "      <td>39</td>\n",
       "      <td>1</td>\n",
       "      <td>0.00</td>\n",
       "      <td>2</td>\n",
       "      <td>0</td>\n",
       "      <td>0</td>\n",
       "      <td>93826.63</td>\n",
       "    </tr>\n",
       "    <tr>\n",
       "      <th>4</th>\n",
       "      <td>850</td>\n",
       "      <td>43</td>\n",
       "      <td>2</td>\n",
       "      <td>125510.82</td>\n",
       "      <td>1</td>\n",
       "      <td>1</td>\n",
       "      <td>1</td>\n",
       "      <td>79084.10</td>\n",
       "    </tr>\n",
       "  </tbody>\n",
       "</table>\n",
       "</div>"
      ],
      "text/plain": [
       "   CreditScore  Age  Tenure    Balance  NumOfProducts  HasCrCard  \\\n",
       "0          619   42       2       0.00              1          1   \n",
       "1          608   41       1   83807.86              1          0   \n",
       "2          502   42       8  159660.80              3          1   \n",
       "3          699   39       1       0.00              2          0   \n",
       "4          850   43       2  125510.82              1          1   \n",
       "\n",
       "   IsActiveMember  EstimatedSalary  \n",
       "0               1        101348.88  \n",
       "1               1        112542.58  \n",
       "2               0        113931.57  \n",
       "3               0         93826.63  \n",
       "4               1         79084.10  "
      ]
     },
     "execution_count": 9,
     "metadata": {},
     "output_type": "execute_result"
    }
   ],
   "source": [
    "x.head()"
   ]
  },
  {
   "cell_type": "code",
   "execution_count": 10,
   "id": "3ea97736",
   "metadata": {
    "execution": {
     "iopub.execute_input": "2025-09-23T09:24:59.073031Z",
     "iopub.status.busy": "2025-09-23T09:24:59.072733Z",
     "iopub.status.idle": "2025-09-23T09:24:59.080054Z",
     "shell.execute_reply": "2025-09-23T09:24:59.079108Z"
    },
    "papermill": {
     "duration": 0.015126,
     "end_time": "2025-09-23T09:24:59.081755",
     "exception": false,
     "start_time": "2025-09-23T09:24:59.066629",
     "status": "completed"
    },
    "tags": []
   },
   "outputs": [],
   "source": [
    "x=pd.concat([x,Geography,Gender],axis=1)"
   ]
  },
  {
   "cell_type": "code",
   "execution_count": 11,
   "id": "5126c791",
   "metadata": {
    "execution": {
     "iopub.execute_input": "2025-09-23T09:24:59.093318Z",
     "iopub.status.busy": "2025-09-23T09:24:59.092999Z",
     "iopub.status.idle": "2025-09-23T09:24:59.105611Z",
     "shell.execute_reply": "2025-09-23T09:24:59.104676Z"
    },
    "papermill": {
     "duration": 0.020322,
     "end_time": "2025-09-23T09:24:59.107392",
     "exception": false,
     "start_time": "2025-09-23T09:24:59.087070",
     "status": "completed"
    },
    "tags": []
   },
   "outputs": [
    {
     "data": {
      "text/html": [
       "<div>\n",
       "<style scoped>\n",
       "    .dataframe tbody tr th:only-of-type {\n",
       "        vertical-align: middle;\n",
       "    }\n",
       "\n",
       "    .dataframe tbody tr th {\n",
       "        vertical-align: top;\n",
       "    }\n",
       "\n",
       "    .dataframe thead th {\n",
       "        text-align: right;\n",
       "    }\n",
       "</style>\n",
       "<table border=\"1\" class=\"dataframe\">\n",
       "  <thead>\n",
       "    <tr style=\"text-align: right;\">\n",
       "      <th></th>\n",
       "      <th>CreditScore</th>\n",
       "      <th>Age</th>\n",
       "      <th>Tenure</th>\n",
       "      <th>Balance</th>\n",
       "      <th>NumOfProducts</th>\n",
       "      <th>HasCrCard</th>\n",
       "      <th>IsActiveMember</th>\n",
       "      <th>EstimatedSalary</th>\n",
       "      <th>Germany</th>\n",
       "      <th>Spain</th>\n",
       "      <th>Male</th>\n",
       "    </tr>\n",
       "  </thead>\n",
       "  <tbody>\n",
       "    <tr>\n",
       "      <th>0</th>\n",
       "      <td>619</td>\n",
       "      <td>42</td>\n",
       "      <td>2</td>\n",
       "      <td>0.00</td>\n",
       "      <td>1</td>\n",
       "      <td>1</td>\n",
       "      <td>1</td>\n",
       "      <td>101348.88</td>\n",
       "      <td>0</td>\n",
       "      <td>0</td>\n",
       "      <td>0</td>\n",
       "    </tr>\n",
       "    <tr>\n",
       "      <th>1</th>\n",
       "      <td>608</td>\n",
       "      <td>41</td>\n",
       "      <td>1</td>\n",
       "      <td>83807.86</td>\n",
       "      <td>1</td>\n",
       "      <td>0</td>\n",
       "      <td>1</td>\n",
       "      <td>112542.58</td>\n",
       "      <td>0</td>\n",
       "      <td>1</td>\n",
       "      <td>0</td>\n",
       "    </tr>\n",
       "    <tr>\n",
       "      <th>2</th>\n",
       "      <td>502</td>\n",
       "      <td>42</td>\n",
       "      <td>8</td>\n",
       "      <td>159660.80</td>\n",
       "      <td>3</td>\n",
       "      <td>1</td>\n",
       "      <td>0</td>\n",
       "      <td>113931.57</td>\n",
       "      <td>0</td>\n",
       "      <td>0</td>\n",
       "      <td>0</td>\n",
       "    </tr>\n",
       "    <tr>\n",
       "      <th>3</th>\n",
       "      <td>699</td>\n",
       "      <td>39</td>\n",
       "      <td>1</td>\n",
       "      <td>0.00</td>\n",
       "      <td>2</td>\n",
       "      <td>0</td>\n",
       "      <td>0</td>\n",
       "      <td>93826.63</td>\n",
       "      <td>0</td>\n",
       "      <td>0</td>\n",
       "      <td>0</td>\n",
       "    </tr>\n",
       "    <tr>\n",
       "      <th>4</th>\n",
       "      <td>850</td>\n",
       "      <td>43</td>\n",
       "      <td>2</td>\n",
       "      <td>125510.82</td>\n",
       "      <td>1</td>\n",
       "      <td>1</td>\n",
       "      <td>1</td>\n",
       "      <td>79084.10</td>\n",
       "      <td>0</td>\n",
       "      <td>1</td>\n",
       "      <td>0</td>\n",
       "    </tr>\n",
       "  </tbody>\n",
       "</table>\n",
       "</div>"
      ],
      "text/plain": [
       "   CreditScore  Age  Tenure    Balance  NumOfProducts  HasCrCard  \\\n",
       "0          619   42       2       0.00              1          1   \n",
       "1          608   41       1   83807.86              1          0   \n",
       "2          502   42       8  159660.80              3          1   \n",
       "3          699   39       1       0.00              2          0   \n",
       "4          850   43       2  125510.82              1          1   \n",
       "\n",
       "   IsActiveMember  EstimatedSalary  Germany  Spain  Male  \n",
       "0               1        101348.88        0      0     0  \n",
       "1               1        112542.58        0      1     0  \n",
       "2               0        113931.57        0      0     0  \n",
       "3               0         93826.63        0      0     0  \n",
       "4               1         79084.10        0      1     0  "
      ]
     },
     "execution_count": 11,
     "metadata": {},
     "output_type": "execute_result"
    }
   ],
   "source": [
    "x.head()"
   ]
  },
  {
   "cell_type": "code",
   "execution_count": 12,
   "id": "4079c9c7",
   "metadata": {
    "execution": {
     "iopub.execute_input": "2025-09-23T09:24:59.120058Z",
     "iopub.status.busy": "2025-09-23T09:24:59.119745Z",
     "iopub.status.idle": "2025-09-23T09:25:01.112570Z",
     "shell.execute_reply": "2025-09-23T09:25:01.111673Z"
    },
    "papermill": {
     "duration": 2.001488,
     "end_time": "2025-09-23T09:25:01.114527",
     "exception": false,
     "start_time": "2025-09-23T09:24:59.113039",
     "status": "completed"
    },
    "tags": []
   },
   "outputs": [],
   "source": [
    "# spliting the dataset train and test\n",
    "from sklearn.model_selection import train_test_split\n",
    "x_train, x_test, y_train, y_test = train_test_split(x,y,test_size=0.2,random_state=42)"
   ]
  },
  {
   "cell_type": "code",
   "execution_count": 13,
   "id": "1b1bee49",
   "metadata": {
    "execution": {
     "iopub.execute_input": "2025-09-23T09:25:01.128962Z",
     "iopub.status.busy": "2025-09-23T09:25:01.128071Z",
     "iopub.status.idle": "2025-09-23T09:25:01.175394Z",
     "shell.execute_reply": "2025-09-23T09:25:01.174400Z"
    },
    "papermill": {
     "duration": 0.056472,
     "end_time": "2025-09-23T09:25:01.177272",
     "exception": false,
     "start_time": "2025-09-23T09:25:01.120800",
     "status": "completed"
    },
    "tags": []
   },
   "outputs": [],
   "source": [
    "# feature scaling \n",
    "from sklearn.preprocessing import StandardScaler\n",
    "scaler = StandardScaler()\n",
    "x_train_scaled = scaler.fit_transform(x_train)\n",
    "x_test_scaled = scaler.transform(x_test)"
   ]
  },
  {
   "cell_type": "code",
   "execution_count": 14,
   "id": "f3e89bae",
   "metadata": {
    "execution": {
     "iopub.execute_input": "2025-09-23T09:25:01.189691Z",
     "iopub.status.busy": "2025-09-23T09:25:01.189370Z",
     "iopub.status.idle": "2025-09-23T09:25:01.196062Z",
     "shell.execute_reply": "2025-09-23T09:25:01.195043Z"
    },
    "papermill": {
     "duration": 0.014737,
     "end_time": "2025-09-23T09:25:01.197707",
     "exception": false,
     "start_time": "2025-09-23T09:25:01.182970",
     "status": "completed"
    },
    "tags": []
   },
   "outputs": [
    {
     "data": {
      "text/plain": [
       "(8000, 11)"
      ]
     },
     "execution_count": 14,
     "metadata": {},
     "output_type": "execute_result"
    }
   ],
   "source": [
    "x_train_scaled.shape"
   ]
  },
  {
   "cell_type": "code",
   "execution_count": 15,
   "id": "2ad8044e",
   "metadata": {
    "execution": {
     "iopub.execute_input": "2025-09-23T09:25:01.210261Z",
     "iopub.status.busy": "2025-09-23T09:25:01.209877Z",
     "iopub.status.idle": "2025-09-23T09:25:20.419017Z",
     "shell.execute_reply": "2025-09-23T09:25:20.417516Z"
    },
    "papermill": {
     "duration": 19.217703,
     "end_time": "2025-09-23T09:25:20.421045",
     "exception": false,
     "start_time": "2025-09-23T09:25:01.203342",
     "status": "completed"
    },
    "tags": []
   },
   "outputs": [
    {
     "name": "stderr",
     "output_type": "stream",
     "text": [
      "2025-09-23 09:25:03.568580: E external/local_xla/xla/stream_executor/cuda/cuda_fft.cc:477] Unable to register cuFFT factory: Attempting to register factory for plugin cuFFT when one has already been registered\n",
      "WARNING: All log messages before absl::InitializeLog() is called are written to STDERR\n",
      "E0000 00:00:1758619503.857468      13 cuda_dnn.cc:8310] Unable to register cuDNN factory: Attempting to register factory for plugin cuDNN when one has already been registered\n",
      "E0000 00:00:1758619503.931102      13 cuda_blas.cc:1418] Unable to register cuBLAS factory: Attempting to register factory for plugin cuBLAS when one has already been registered\n"
     ]
    }
   ],
   "source": [
    "# create an ann \n",
    "import tensorflow as tf\n",
    "from keras.models import Sequential\n",
    "from keras.layers import Dense\n",
    "from keras.layers import LeakyReLU,PReLU,ELU,ReLU\n",
    "from keras.layers import Dropout"
   ]
  },
  {
   "cell_type": "code",
   "execution_count": 16,
   "id": "ac1d09b9",
   "metadata": {
    "execution": {
     "iopub.execute_input": "2025-09-23T09:25:20.434970Z",
     "iopub.status.busy": "2025-09-23T09:25:20.434310Z",
     "iopub.status.idle": "2025-09-23T09:25:20.496381Z",
     "shell.execute_reply": "2025-09-23T09:25:20.495207Z"
    },
    "papermill": {
     "duration": 0.071143,
     "end_time": "2025-09-23T09:25:20.498279",
     "exception": false,
     "start_time": "2025-09-23T09:25:20.427136",
     "status": "completed"
    },
    "tags": []
   },
   "outputs": [
    {
     "name": "stderr",
     "output_type": "stream",
     "text": [
      "2025-09-23 09:25:20.446863: E external/local_xla/xla/stream_executor/cuda/cuda_driver.cc:152] failed call to cuInit: INTERNAL: CUDA error: Failed call to cuInit: UNKNOWN ERROR (303)\n"
     ]
    }
   ],
   "source": [
    "model = Sequential()\n",
    "\n",
    "model.add(Dense(activation='relu',units=11))\n",
    "model.add(Dense(7,activation='relu'))\n",
    "model.add(Dropout(0.2))\n",
    "model.add(Dense(6,activation='relu'))\n",
    "model.add(Dropout(0.3))\n",
    "model.add(Dense(1,activation='sigmoid'))"
   ]
  },
  {
   "cell_type": "code",
   "execution_count": 17,
   "id": "d8d11f9d",
   "metadata": {
    "execution": {
     "iopub.execute_input": "2025-09-23T09:25:20.511407Z",
     "iopub.status.busy": "2025-09-23T09:25:20.511038Z",
     "iopub.status.idle": "2025-09-23T09:25:20.533468Z",
     "shell.execute_reply": "2025-09-23T09:25:20.532278Z"
    },
    "papermill": {
     "duration": 0.031303,
     "end_time": "2025-09-23T09:25:20.535523",
     "exception": false,
     "start_time": "2025-09-23T09:25:20.504220",
     "status": "completed"
    },
    "tags": []
   },
   "outputs": [],
   "source": [
    "model.compile(loss='binary_crossentropy',optimizer='adam',metrics=['accuracy'])"
   ]
  },
  {
   "cell_type": "code",
   "execution_count": 18,
   "id": "526b5a82",
   "metadata": {
    "execution": {
     "iopub.execute_input": "2025-09-23T09:25:20.549787Z",
     "iopub.status.busy": "2025-09-23T09:25:20.549440Z",
     "iopub.status.idle": "2025-09-23T09:25:20.639508Z",
     "shell.execute_reply": "2025-09-23T09:25:20.638470Z"
    },
    "papermill": {
     "duration": 0.09943,
     "end_time": "2025-09-23T09:25:20.641340",
     "exception": false,
     "start_time": "2025-09-23T09:25:20.541910",
     "status": "completed"
    },
    "tags": []
   },
   "outputs": [],
   "source": [
    "early_stopping=tf.keras.callbacks.EarlyStopping(\n",
    "    monitor=\"val_loss\",\n",
    "    min_delta=0.0001,\n",
    "    patience=20,\n",
    "    verbose=1,\n",
    "    mode=\"auto\",\n",
    "    baseline=None,\n",
    "    restore_best_weights=False,\n",
    "    start_from_epoch=0,\n",
    ")"
   ]
  },
  {
   "cell_type": "code",
   "execution_count": 19,
   "id": "c37d7f4b",
   "metadata": {
    "execution": {
     "iopub.execute_input": "2025-09-23T09:25:20.654701Z",
     "iopub.status.busy": "2025-09-23T09:25:20.654348Z",
     "iopub.status.idle": "2025-09-23T09:27:05.260333Z",
     "shell.execute_reply": "2025-09-23T09:27:05.259250Z"
    },
    "papermill": {
     "duration": 104.614532,
     "end_time": "2025-09-23T09:27:05.261995",
     "exception": false,
     "start_time": "2025-09-23T09:25:20.647463",
     "status": "completed"
    },
    "tags": []
   },
   "outputs": [
    {
     "name": "stdout",
     "output_type": "stream",
     "text": [
      "Epoch 1/1000\n",
      "\u001b[1m536/536\u001b[0m \u001b[32m━━━━━━━━━━━━━━━━━━━━\u001b[0m\u001b[37m\u001b[0m \u001b[1m6s\u001b[0m 4ms/step - accuracy: 0.7250 - loss: 0.6215 - val_accuracy: 0.7910 - val_loss: 0.4862\n",
      "Epoch 2/1000\n",
      "\u001b[1m536/536\u001b[0m \u001b[32m━━━━━━━━━━━━━━━━━━━━\u001b[0m\u001b[37m\u001b[0m \u001b[1m2s\u001b[0m 4ms/step - accuracy: 0.7960 - loss: 0.5000 - val_accuracy: 0.7933 - val_loss: 0.4473\n",
      "Epoch 3/1000\n",
      "\u001b[1m536/536\u001b[0m \u001b[32m━━━━━━━━━━━━━━━━━━━━\u001b[0m\u001b[37m\u001b[0m \u001b[1m2s\u001b[0m 4ms/step - accuracy: 0.8089 - loss: 0.4494 - val_accuracy: 0.8122 - val_loss: 0.4276\n",
      "Epoch 4/1000\n",
      "\u001b[1m536/536\u001b[0m \u001b[32m━━━━━━━━━━━━━━━━━━━━\u001b[0m\u001b[37m\u001b[0m \u001b[1m2s\u001b[0m 4ms/step - accuracy: 0.8143 - loss: 0.4529 - val_accuracy: 0.8236 - val_loss: 0.4156\n",
      "Epoch 5/1000\n",
      "\u001b[1m536/536\u001b[0m \u001b[32m━━━━━━━━━━━━━━━━━━━━\u001b[0m\u001b[37m\u001b[0m \u001b[1m2s\u001b[0m 4ms/step - accuracy: 0.8303 - loss: 0.4129 - val_accuracy: 0.8330 - val_loss: 0.3993\n",
      "Epoch 6/1000\n",
      "\u001b[1m536/536\u001b[0m \u001b[32m━━━━━━━━━━━━━━━━━━━━\u001b[0m\u001b[37m\u001b[0m \u001b[1m2s\u001b[0m 4ms/step - accuracy: 0.8369 - loss: 0.3958 - val_accuracy: 0.8368 - val_loss: 0.3916\n",
      "Epoch 7/1000\n",
      "\u001b[1m536/536\u001b[0m \u001b[32m━━━━━━━━━━━━━━━━━━━━\u001b[0m\u001b[37m\u001b[0m \u001b[1m3s\u001b[0m 4ms/step - accuracy: 0.8488 - loss: 0.3751 - val_accuracy: 0.8417 - val_loss: 0.3790\n",
      "Epoch 8/1000\n",
      "\u001b[1m536/536\u001b[0m \u001b[32m━━━━━━━━━━━━━━━━━━━━\u001b[0m\u001b[37m\u001b[0m \u001b[1m2s\u001b[0m 4ms/step - accuracy: 0.8393 - loss: 0.3861 - val_accuracy: 0.8455 - val_loss: 0.3729\n",
      "Epoch 9/1000\n",
      "\u001b[1m536/536\u001b[0m \u001b[32m━━━━━━━━━━━━━━━━━━━━\u001b[0m\u001b[37m\u001b[0m \u001b[1m2s\u001b[0m 4ms/step - accuracy: 0.8506 - loss: 0.3737 - val_accuracy: 0.8451 - val_loss: 0.3697\n",
      "Epoch 10/1000\n",
      "\u001b[1m536/536\u001b[0m \u001b[32m━━━━━━━━━━━━━━━━━━━━\u001b[0m\u001b[37m\u001b[0m \u001b[1m2s\u001b[0m 4ms/step - accuracy: 0.8531 - loss: 0.3693 - val_accuracy: 0.8482 - val_loss: 0.3675\n",
      "Epoch 11/1000\n",
      "\u001b[1m536/536\u001b[0m \u001b[32m━━━━━━━━━━━━━━━━━━━━\u001b[0m\u001b[37m\u001b[0m \u001b[1m2s\u001b[0m 4ms/step - accuracy: 0.8521 - loss: 0.3648 - val_accuracy: 0.8463 - val_loss: 0.3667\n",
      "Epoch 12/1000\n",
      "\u001b[1m536/536\u001b[0m \u001b[32m━━━━━━━━━━━━━━━━━━━━\u001b[0m\u001b[37m\u001b[0m \u001b[1m2s\u001b[0m 4ms/step - accuracy: 0.8530 - loss: 0.3624 - val_accuracy: 0.8466 - val_loss: 0.3664\n",
      "Epoch 13/1000\n",
      "\u001b[1m536/536\u001b[0m \u001b[32m━━━━━━━━━━━━━━━━━━━━\u001b[0m\u001b[37m\u001b[0m \u001b[1m2s\u001b[0m 4ms/step - accuracy: 0.8615 - loss: 0.3537 - val_accuracy: 0.8504 - val_loss: 0.3633\n",
      "Epoch 14/1000\n",
      "\u001b[1m536/536\u001b[0m \u001b[32m━━━━━━━━━━━━━━━━━━━━\u001b[0m\u001b[37m\u001b[0m \u001b[1m2s\u001b[0m 4ms/step - accuracy: 0.8533 - loss: 0.3601 - val_accuracy: 0.8519 - val_loss: 0.3611\n",
      "Epoch 15/1000\n",
      "\u001b[1m536/536\u001b[0m \u001b[32m━━━━━━━━━━━━━━━━━━━━\u001b[0m\u001b[37m\u001b[0m \u001b[1m2s\u001b[0m 4ms/step - accuracy: 0.8519 - loss: 0.3607 - val_accuracy: 0.8531 - val_loss: 0.3622\n",
      "Epoch 16/1000\n",
      "\u001b[1m536/536\u001b[0m \u001b[32m━━━━━━━━━━━━━━━━━━━━\u001b[0m\u001b[37m\u001b[0m \u001b[1m2s\u001b[0m 4ms/step - accuracy: 0.8557 - loss: 0.3630 - val_accuracy: 0.8557 - val_loss: 0.3633\n",
      "Epoch 17/1000\n",
      "\u001b[1m536/536\u001b[0m \u001b[32m━━━━━━━━━━━━━━━━━━━━\u001b[0m\u001b[37m\u001b[0m \u001b[1m2s\u001b[0m 4ms/step - accuracy: 0.8565 - loss: 0.3533 - val_accuracy: 0.8508 - val_loss: 0.3618\n",
      "Epoch 18/1000\n",
      "\u001b[1m536/536\u001b[0m \u001b[32m━━━━━━━━━━━━━━━━━━━━\u001b[0m\u001b[37m\u001b[0m \u001b[1m2s\u001b[0m 4ms/step - accuracy: 0.8583 - loss: 0.3422 - val_accuracy: 0.8512 - val_loss: 0.3625\n",
      "Epoch 19/1000\n",
      "\u001b[1m536/536\u001b[0m \u001b[32m━━━━━━━━━━━━━━━━━━━━\u001b[0m\u001b[37m\u001b[0m \u001b[1m2s\u001b[0m 5ms/step - accuracy: 0.8523 - loss: 0.3644 - val_accuracy: 0.8538 - val_loss: 0.3630\n",
      "Epoch 20/1000\n",
      "\u001b[1m536/536\u001b[0m \u001b[32m━━━━━━━━━━━━━━━━━━━━\u001b[0m\u001b[37m\u001b[0m \u001b[1m2s\u001b[0m 4ms/step - accuracy: 0.8622 - loss: 0.3422 - val_accuracy: 0.8512 - val_loss: 0.3620\n",
      "Epoch 21/1000\n",
      "\u001b[1m536/536\u001b[0m \u001b[32m━━━━━━━━━━━━━━━━━━━━\u001b[0m\u001b[37m\u001b[0m \u001b[1m2s\u001b[0m 4ms/step - accuracy: 0.8488 - loss: 0.3630 - val_accuracy: 0.8516 - val_loss: 0.3606\n",
      "Epoch 22/1000\n",
      "\u001b[1m536/536\u001b[0m \u001b[32m━━━━━━━━━━━━━━━━━━━━\u001b[0m\u001b[37m\u001b[0m \u001b[1m2s\u001b[0m 3ms/step - accuracy: 0.8572 - loss: 0.3589 - val_accuracy: 0.8531 - val_loss: 0.3617\n",
      "Epoch 23/1000\n",
      "\u001b[1m536/536\u001b[0m \u001b[32m━━━━━━━━━━━━━━━━━━━━\u001b[0m\u001b[37m\u001b[0m \u001b[1m2s\u001b[0m 4ms/step - accuracy: 0.8593 - loss: 0.3535 - val_accuracy: 0.8538 - val_loss: 0.3619\n",
      "Epoch 24/1000\n",
      "\u001b[1m536/536\u001b[0m \u001b[32m━━━━━━━━━━━━━━━━━━━━\u001b[0m\u001b[37m\u001b[0m \u001b[1m2s\u001b[0m 4ms/step - accuracy: 0.8523 - loss: 0.3626 - val_accuracy: 0.8535 - val_loss: 0.3627\n",
      "Epoch 25/1000\n",
      "\u001b[1m536/536\u001b[0m \u001b[32m━━━━━━━━━━━━━━━━━━━━\u001b[0m\u001b[37m\u001b[0m \u001b[1m3s\u001b[0m 5ms/step - accuracy: 0.8569 - loss: 0.3475 - val_accuracy: 0.8516 - val_loss: 0.3633\n",
      "Epoch 26/1000\n",
      "\u001b[1m536/536\u001b[0m \u001b[32m━━━━━━━━━━━━━━━━━━━━\u001b[0m\u001b[37m\u001b[0m \u001b[1m2s\u001b[0m 4ms/step - accuracy: 0.8459 - loss: 0.3621 - val_accuracy: 0.8504 - val_loss: 0.3633\n",
      "Epoch 27/1000\n",
      "\u001b[1m536/536\u001b[0m \u001b[32m━━━━━━━━━━━━━━━━━━━━\u001b[0m\u001b[37m\u001b[0m \u001b[1m2s\u001b[0m 4ms/step - accuracy: 0.8537 - loss: 0.3565 - val_accuracy: 0.8527 - val_loss: 0.3602\n",
      "Epoch 28/1000\n",
      "\u001b[1m536/536\u001b[0m \u001b[32m━━━━━━━━━━━━━━━━━━━━\u001b[0m\u001b[37m\u001b[0m \u001b[1m2s\u001b[0m 4ms/step - accuracy: 0.8505 - loss: 0.3636 - val_accuracy: 0.8535 - val_loss: 0.3626\n",
      "Epoch 29/1000\n",
      "\u001b[1m536/536\u001b[0m \u001b[32m━━━━━━━━━━━━━━━━━━━━\u001b[0m\u001b[37m\u001b[0m \u001b[1m2s\u001b[0m 4ms/step - accuracy: 0.8576 - loss: 0.3578 - val_accuracy: 0.8523 - val_loss: 0.3626\n",
      "Epoch 30/1000\n",
      "\u001b[1m536/536\u001b[0m \u001b[32m━━━━━━━━━━━━━━━━━━━━\u001b[0m\u001b[37m\u001b[0m \u001b[1m2s\u001b[0m 4ms/step - accuracy: 0.8582 - loss: 0.3549 - val_accuracy: 0.8519 - val_loss: 0.3615\n",
      "Epoch 31/1000\n",
      "\u001b[1m536/536\u001b[0m \u001b[32m━━━━━━━━━━━━━━━━━━━━\u001b[0m\u001b[37m\u001b[0m \u001b[1m2s\u001b[0m 4ms/step - accuracy: 0.8559 - loss: 0.3532 - val_accuracy: 0.8497 - val_loss: 0.3611\n",
      "Epoch 32/1000\n",
      "\u001b[1m536/536\u001b[0m \u001b[32m━━━━━━━━━━━━━━━━━━━━\u001b[0m\u001b[37m\u001b[0m \u001b[1m2s\u001b[0m 4ms/step - accuracy: 0.8648 - loss: 0.3377 - val_accuracy: 0.8478 - val_loss: 0.3632\n",
      "Epoch 33/1000\n",
      "\u001b[1m536/536\u001b[0m \u001b[32m━━━━━━━━━━━━━━━━━━━━\u001b[0m\u001b[37m\u001b[0m \u001b[1m2s\u001b[0m 4ms/step - accuracy: 0.8557 - loss: 0.3519 - val_accuracy: 0.8504 - val_loss: 0.3626\n",
      "Epoch 34/1000\n",
      "\u001b[1m536/536\u001b[0m \u001b[32m━━━━━━━━━━━━━━━━━━━━\u001b[0m\u001b[37m\u001b[0m \u001b[1m2s\u001b[0m 4ms/step - accuracy: 0.8676 - loss: 0.3431 - val_accuracy: 0.8489 - val_loss: 0.3642\n",
      "Epoch 35/1000\n",
      "\u001b[1m536/536\u001b[0m \u001b[32m━━━━━━━━━━━━━━━━━━━━\u001b[0m\u001b[37m\u001b[0m \u001b[1m2s\u001b[0m 4ms/step - accuracy: 0.8583 - loss: 0.3606 - val_accuracy: 0.8523 - val_loss: 0.3620\n",
      "Epoch 36/1000\n",
      "\u001b[1m536/536\u001b[0m \u001b[32m━━━━━━━━━━━━━━━━━━━━\u001b[0m\u001b[37m\u001b[0m \u001b[1m2s\u001b[0m 4ms/step - accuracy: 0.8584 - loss: 0.3439 - val_accuracy: 0.8512 - val_loss: 0.3646\n",
      "Epoch 37/1000\n",
      "\u001b[1m536/536\u001b[0m \u001b[32m━━━━━━━━━━━━━━━━━━━━\u001b[0m\u001b[37m\u001b[0m \u001b[1m2s\u001b[0m 4ms/step - accuracy: 0.8588 - loss: 0.3434 - val_accuracy: 0.8516 - val_loss: 0.3632\n",
      "Epoch 38/1000\n",
      "\u001b[1m536/536\u001b[0m \u001b[32m━━━━━━━━━━━━━━━━━━━━\u001b[0m\u001b[37m\u001b[0m \u001b[1m2s\u001b[0m 4ms/step - accuracy: 0.8698 - loss: 0.3283 - val_accuracy: 0.8527 - val_loss: 0.3631\n",
      "Epoch 39/1000\n",
      "\u001b[1m536/536\u001b[0m \u001b[32m━━━━━━━━━━━━━━━━━━━━\u001b[0m\u001b[37m\u001b[0m \u001b[1m2s\u001b[0m 4ms/step - accuracy: 0.8539 - loss: 0.3477 - val_accuracy: 0.8501 - val_loss: 0.3655\n",
      "Epoch 40/1000\n",
      "\u001b[1m536/536\u001b[0m \u001b[32m━━━━━━━━━━━━━━━━━━━━\u001b[0m\u001b[37m\u001b[0m \u001b[1m2s\u001b[0m 4ms/step - accuracy: 0.8679 - loss: 0.3420 - val_accuracy: 0.8470 - val_loss: 0.3691\n",
      "Epoch 41/1000\n",
      "\u001b[1m536/536\u001b[0m \u001b[32m━━━━━━━━━━━━━━━━━━━━\u001b[0m\u001b[37m\u001b[0m \u001b[1m2s\u001b[0m 5ms/step - accuracy: 0.8684 - loss: 0.3377 - val_accuracy: 0.8493 - val_loss: 0.3652\n",
      "Epoch 42/1000\n",
      "\u001b[1m536/536\u001b[0m \u001b[32m━━━━━━━━━━━━━━━━━━━━\u001b[0m\u001b[37m\u001b[0m \u001b[1m2s\u001b[0m 4ms/step - accuracy: 0.8587 - loss: 0.3527 - val_accuracy: 0.8512 - val_loss: 0.3674\n",
      "Epoch 43/1000\n",
      "\u001b[1m536/536\u001b[0m \u001b[32m━━━━━━━━━━━━━━━━━━━━\u001b[0m\u001b[37m\u001b[0m \u001b[1m2s\u001b[0m 4ms/step - accuracy: 0.8658 - loss: 0.3498 - val_accuracy: 0.8470 - val_loss: 0.3661\n",
      "Epoch 44/1000\n",
      "\u001b[1m536/536\u001b[0m \u001b[32m━━━━━━━━━━━━━━━━━━━━\u001b[0m\u001b[37m\u001b[0m \u001b[1m2s\u001b[0m 4ms/step - accuracy: 0.8638 - loss: 0.3325 - val_accuracy: 0.8516 - val_loss: 0.3638\n",
      "Epoch 45/1000\n",
      "\u001b[1m536/536\u001b[0m \u001b[32m━━━━━━━━━━━━━━━━━━━━\u001b[0m\u001b[37m\u001b[0m \u001b[1m2s\u001b[0m 4ms/step - accuracy: 0.8561 - loss: 0.3602 - val_accuracy: 0.8527 - val_loss: 0.3651\n",
      "Epoch 46/1000\n",
      "\u001b[1m536/536\u001b[0m \u001b[32m━━━━━━━━━━━━━━━━━━━━\u001b[0m\u001b[37m\u001b[0m \u001b[1m2s\u001b[0m 4ms/step - accuracy: 0.8581 - loss: 0.3556 - val_accuracy: 0.8531 - val_loss: 0.3634\n",
      "Epoch 47/1000\n",
      "\u001b[1m536/536\u001b[0m \u001b[32m━━━━━━━━━━━━━━━━━━━━\u001b[0m\u001b[37m\u001b[0m \u001b[1m2s\u001b[0m 4ms/step - accuracy: 0.8501 - loss: 0.3635 - val_accuracy: 0.8523 - val_loss: 0.3656\n",
      "Epoch 47: early stopping\n"
     ]
    }
   ],
   "source": [
    "history = model.fit(x_train_scaled,y_train,epochs=1000,validation_split=0.33,batch_size=10,callbacks=[early_stopping])"
   ]
  },
  {
   "cell_type": "code",
   "execution_count": 20,
   "id": "da00ff33",
   "metadata": {
    "execution": {
     "iopub.execute_input": "2025-09-23T09:27:05.505666Z",
     "iopub.status.busy": "2025-09-23T09:27:05.505323Z",
     "iopub.status.idle": "2025-09-23T09:27:05.511484Z",
     "shell.execute_reply": "2025-09-23T09:27:05.510332Z"
    },
    "papermill": {
     "duration": 0.096458,
     "end_time": "2025-09-23T09:27:05.513295",
     "exception": false,
     "start_time": "2025-09-23T09:27:05.416837",
     "status": "completed"
    },
    "tags": []
   },
   "outputs": [
    {
     "data": {
      "text/plain": [
       "dict_keys(['accuracy', 'loss', 'val_accuracy', 'val_loss'])"
      ]
     },
     "execution_count": 20,
     "metadata": {},
     "output_type": "execute_result"
    }
   ],
   "source": [
    "history.history.keys()"
   ]
  },
  {
   "cell_type": "code",
   "execution_count": 21,
   "id": "0e382703",
   "metadata": {
    "execution": {
     "iopub.execute_input": "2025-09-23T09:27:05.675655Z",
     "iopub.status.busy": "2025-09-23T09:27:05.675303Z",
     "iopub.status.idle": "2025-09-23T09:27:05.968712Z",
     "shell.execute_reply": "2025-09-23T09:27:05.967496Z"
    },
    "papermill": {
     "duration": 0.376079,
     "end_time": "2025-09-23T09:27:05.970538",
     "exception": false,
     "start_time": "2025-09-23T09:27:05.594459",
     "status": "completed"
    },
    "tags": []
   },
   "outputs": [
    {
     "data": {
      "text/plain": [
       "[<matplotlib.lines.Line2D at 0x7f6f3a70ead0>]"
      ]
     },
     "execution_count": 21,
     "metadata": {},
     "output_type": "execute_result"
    },
    {
     "data": {
      "image/png": "[encoded data removed]",
      "text/plain": [
       "<Figure size 640x480 with 1 Axes>"
      ]
     },
     "metadata": {},
     "output_type": "display_data"
    }
   ],
   "source": [
    "import matplotlib.pyplot as plt\n",
    "plt.plot(history.history['loss']) \n",
    "plt.plot(history.history['val_loss'])"
   ]
  },
  {
   "cell_type": "code",
   "execution_count": 22,
   "id": "dc42d902",
   "metadata": {
    "execution": {
     "iopub.execute_input": "2025-09-23T09:27:06.136974Z",
     "iopub.status.busy": "2025-09-23T09:27:06.136600Z",
     "iopub.status.idle": "2025-09-23T09:27:06.298330Z",
     "shell.execute_reply": "2025-09-23T09:27:06.297119Z"
    },
    "papermill": {
     "duration": 0.246064,
     "end_time": "2025-09-23T09:27:06.300322",
     "exception": false,
     "start_time": "2025-09-23T09:27:06.054258",
     "status": "completed"
    },
    "tags": []
   },
   "outputs": [
    {
     "data": {
      "text/plain": [
       "[<matplotlib.lines.Line2D at 0x7f6f3a7dc550>]"
      ]
     },
     "execution_count": 22,
     "metadata": {},
     "output_type": "execute_result"
    },
    {
     "data": {
      "image/png": "[encoded data removed]",
      "text/plain": [
       "<Figure size 640x480 with 1 Axes>"
      ]
     },
     "metadata": {},
     "output_type": "display_data"
    }
   ],
   "source": [
    "plt.plot(history.history['accuracy']) \n",
    "plt.plot(history.history['val_accuracy'])"
   ]
  },
  {
   "cell_type": "code",
   "execution_count": 23,
   "id": "cbb43297",
   "metadata": {
    "execution": {
     "iopub.execute_input": "2025-09-23T09:27:06.468553Z",
     "iopub.status.busy": "2025-09-23T09:27:06.468185Z",
     "iopub.status.idle": "2025-09-23T09:27:06.826627Z",
     "shell.execute_reply": "2025-09-23T09:27:06.825655Z"
    },
    "papermill": {
     "duration": 0.444968,
     "end_time": "2025-09-23T09:27:06.828619",
     "exception": false,
     "start_time": "2025-09-23T09:27:06.383651",
     "status": "completed"
    },
    "tags": []
   },
   "outputs": [
    {
     "name": "stdout",
     "output_type": "stream",
     "text": [
      "\u001b[1m63/63\u001b[0m \u001b[32m━━━━━━━━━━━━━━━━━━━━\u001b[0m\u001b[37m\u001b[0m \u001b[1m0s\u001b[0m 3ms/step\n"
     ]
    }
   ],
   "source": [
    "y_pred=model.predict(x_test_scaled)\n",
    "y_pred=(y_pred>=0.5).astype(int)"
   ]
  },
  {
   "cell_type": "code",
   "execution_count": 24,
   "id": "5c1adb6c",
   "metadata": {
    "execution": {
     "iopub.execute_input": "2025-09-23T09:27:07.002255Z",
     "iopub.status.busy": "2025-09-23T09:27:07.001885Z",
     "iopub.status.idle": "2025-09-23T09:27:07.014178Z",
     "shell.execute_reply": "2025-09-23T09:27:07.013042Z"
    },
    "papermill": {
     "duration": 0.103774,
     "end_time": "2025-09-23T09:27:07.015767",
     "exception": false,
     "start_time": "2025-09-23T09:27:06.911993",
     "status": "completed"
    },
    "tags": []
   },
   "outputs": [
    {
     "data": {
      "text/plain": [
       "array([[1536,   71],\n",
       "       [ 220,  173]])"
      ]
     },
     "execution_count": 24,
     "metadata": {},
     "output_type": "execute_result"
    }
   ],
   "source": [
    "from sklearn.metrics import confusion_matrix, accuracy_score\n",
    "cm=confusion_matrix(y_test,y_pred)\n",
    "cm"
   ]
  },
  {
   "cell_type": "code",
   "execution_count": 25,
   "id": "987aac03",
   "metadata": {
    "execution": {
     "iopub.execute_input": "2025-09-23T09:27:07.183952Z",
     "iopub.status.busy": "2025-09-23T09:27:07.183601Z",
     "iopub.status.idle": "2025-09-23T09:27:07.192134Z",
     "shell.execute_reply": "2025-09-23T09:27:07.190973Z"
    },
    "papermill": {
     "duration": 0.095487,
     "end_time": "2025-09-23T09:27:07.194202",
     "exception": false,
     "start_time": "2025-09-23T09:27:07.098715",
     "status": "completed"
    },
    "tags": []
   },
   "outputs": [
    {
     "data": {
      "text/plain": [
       "0.8545"
      ]
     },
     "execution_count": 25,
     "metadata": {},
     "output_type": "execute_result"
    }
   ],
   "source": [
    "# accuracy \n",
    "accu=accuracy_score(y_test,y_pred)\n",
    "accu"
   ]
  },
  {
   "cell_type": "code",
   "execution_count": 26,
   "id": "6d8cd46f",
   "metadata": {
    "execution": {
     "iopub.execute_input": "2025-09-23T09:27:07.374652Z",
     "iopub.status.busy": "2025-09-23T09:27:07.374293Z",
     "iopub.status.idle": "2025-09-23T09:27:07.394216Z",
     "shell.execute_reply": "2025-09-23T09:27:07.393089Z"
    },
    "papermill": {
     "duration": 0.114041,
     "end_time": "2025-09-23T09:27:07.395865",
     "exception": false,
     "start_time": "2025-09-23T09:27:07.281824",
     "status": "completed"
    },
    "tags": []
   },
   "outputs": [
    {
     "data": {
      "text/plain": [
       "[array([[-9.16954875e-03,  9.16438326e-02,  5.48227370e-01,\n",
       "          2.12934136e-01, -6.86764345e-02,  1.50574774e-01,\n",
       "         -3.03201646e-01,  6.19769879e-02, -4.70786579e-02,\n",
       "          1.05953805e-01,  3.47109884e-01],\n",
       "        [ 8.16959962e-02,  4.22133446e-01, -1.78993210e-01,\n",
       "         -7.33218193e-01, -3.31251882e-02, -8.57918918e-01,\n",
       "         -5.68742812e-01, -2.68254429e-01, -7.66776919e-01,\n",
       "         -9.18253958e-01, -5.52152753e-01],\n",
       "        [-6.28344119e-02, -3.89689356e-02, -1.78624511e-01,\n",
       "          7.32184201e-02,  2.89153010e-02, -7.94704631e-03,\n",
       "          6.48309290e-02, -1.17301792e-01, -1.05583102e-01,\n",
       "         -1.59128070e-01, -2.53864229e-01],\n",
       "        [ 3.76430064e-01, -1.22032791e-01, -4.08986062e-01,\n",
       "         -3.22543442e-01, -4.96887863e-01, -4.37442392e-01,\n",
       "         -2.33459964e-01, -5.47482371e-01,  1.34674902e-03,\n",
       "          6.30335766e-04, -2.69777715e-01],\n",
       "        [ 1.23116422e+00,  2.27595374e-01, -1.92095414e-01,\n",
       "          1.40290111e-01, -1.34401643e+00,  1.97371960e-01,\n",
       "          2.83338994e-01, -3.68142366e-01, -5.32853156e-02,\n",
       "         -9.95377377e-02,  4.65571016e-01],\n",
       "        [-8.24984387e-02,  1.29630879e-01,  1.87198818e-01,\n",
       "         -3.95136289e-02, -1.01022199e-01, -4.05860454e-01,\n",
       "         -3.97795066e-02, -6.01121970e-02, -3.08920801e-01,\n",
       "          2.80461431e-01,  1.39937354e-02],\n",
       "        [-1.81629565e-02,  6.37755632e-01, -5.76210141e-01,\n",
       "         -7.10589409e-01, -3.51872265e-01, -5.22179067e-01,\n",
       "          2.04695299e-01, -2.61257946e-01,  2.24040523e-01,\n",
       "         -7.56780356e-02,  9.54975262e-02],\n",
       "        [ 4.03009057e-02,  1.62124157e-01,  5.46117961e-01,\n",
       "          1.73226491e-01,  2.42649987e-01,  2.08800212e-01,\n",
       "         -4.03160334e-01, -5.26635759e-02,  9.50008705e-02,\n",
       "          2.15069041e-01,  1.97165549e-01],\n",
       "        [-8.14838260e-02,  3.93374488e-02, -2.50215977e-01,\n",
       "         -2.23503813e-01,  5.06466269e-01,  3.14987451e-01,\n",
       "          1.26963854e-01,  5.20005941e-01,  1.60121694e-02,\n",
       "          1.66126907e-01, -4.08839136e-02],\n",
       "        [ 8.73555318e-02,  5.86119406e-02,  2.44833231e-01,\n",
       "         -2.06651092e-01,  5.54291205e-03, -3.35910589e-01,\n",
       "         -3.68236657e-03, -1.61376014e-01, -2.99922645e-01,\n",
       "          3.74696940e-01,  2.47506738e-01],\n",
       "        [-6.27587512e-02,  2.46718943e-01, -4.17173356e-02,\n",
       "          2.76081860e-01,  1.48133874e-01, -9.51850880e-03,\n",
       "          8.71555954e-02,  1.54303789e-01,  1.48381159e-01,\n",
       "         -9.57544371e-02,  2.86379278e-01]], dtype=float32),\n",
       " array([-0.5774955 , -0.34548745, -0.28061935,  0.28383592,  0.26606593,\n",
       "        -0.16887935,  0.17105913,  0.3397745 ,  0.40617907,  0.53585875,\n",
       "        -0.03607041], dtype=float32),\n",
       " array([[ 0.8731012 , -0.5851989 , -0.60845006,  0.21507114, -0.57650805,\n",
       "         -0.6646643 ,  0.65761596],\n",
       "        [-0.35673586,  0.3432014 ,  0.48254955, -0.30136958, -0.22410548,\n",
       "          0.33369762, -0.5085091 ],\n",
       "        [-0.19642588,  0.31168178,  0.04582809,  0.5184458 ,  0.3493631 ,\n",
       "         -0.30163425,  0.24076118],\n",
       "        [ 0.1688557 , -0.2078086 ,  0.39925444, -0.82316154, -0.23591694,\n",
       "          0.7000946 , -0.48068178],\n",
       "        [-0.9577812 , -0.8070991 , -0.40872052,  0.04614627,  0.18043405,\n",
       "         -0.2088888 ,  0.43640503],\n",
       "        [ 0.23994151,  0.24877769, -0.37353295, -0.7067027 , -0.47269014,\n",
       "         -0.36931488, -0.28048798],\n",
       "        [ 0.05830412,  0.34442532,  0.17231281, -1.0016538 ,  0.0314109 ,\n",
       "          0.27995008, -0.07945074],\n",
       "        [-0.9650598 ,  0.2593713 , -0.11738446,  0.253609  ,  0.5955106 ,\n",
       "         -0.24661835, -0.09440272],\n",
       "        [-0.26742017,  0.3116324 ,  0.5047758 , -0.0877361 , -0.4404821 ,\n",
       "          0.42707053, -0.1269824 ],\n",
       "        [-0.35013378, -0.00659532,  0.06442943, -1.2577658 , -0.29973292,\n",
       "          0.14796357, -0.60280305],\n",
       "        [ 0.16978861,  0.36529872,  0.19362043, -0.13685988, -0.91105986,\n",
       "          0.2493913 ,  0.37421024]], dtype=float32),\n",
       " array([-0.76016474,  0.00466036,  0.02975985,  0.2557914 ,  0.04559875,\n",
       "         0.06378223, -0.22507843], dtype=float32),\n",
       " array([[-0.6950567 ,  0.70175177,  0.45671412, -0.84179866, -0.77523595,\n",
       "         -0.6519834 ],\n",
       "        [ 0.3417042 , -0.43960613, -0.3100435 ,  0.6446434 ,  0.5616098 ,\n",
       "          0.31819233],\n",
       "        [ 0.43146244, -0.5412257 , -0.37116984,  0.40683603,  0.35282844,\n",
       "          0.24335676],\n",
       "        [-0.985661  ,  1.2659476 ,  0.81537825, -1.0711721 , -0.89473253,\n",
       "         -1.0254613 ],\n",
       "        [-0.9040956 ,  0.15861925,  0.12261476, -0.58693874, -1.2234668 ,\n",
       "         -0.8035366 ],\n",
       "        [ 0.18374273, -0.79005903, -0.7363129 ,  0.18971974,  0.38591933,\n",
       "          0.16323514],\n",
       "        [-1.1517018 ,  0.9673466 ,  0.94892657, -1.3322482 , -1.3379878 ,\n",
       "         -0.9346083 ]], dtype=float32),\n",
       " array([0.30604345, 0.10962436, 0.0882114 , 0.3427901 , 0.28472468,\n",
       "        0.28260264], dtype=float32),\n",
       " array([[-0.5166107 ],\n",
       "        [ 0.90866655],\n",
       "        [ 1.093773  ],\n",
       "        [-0.5295239 ],\n",
       "        [-0.46769604],\n",
       "        [-0.72078955]], dtype=float32),\n",
       " array([-0.8307646], dtype=float32)]"
      ]
     },
     "execution_count": 26,
     "metadata": {},
     "output_type": "execute_result"
    }
   ],
   "source": [
    "model.get_weights()"
   ]
  }
 ],
 "metadata": {
  "kaggle": {
   "accelerator": "none",
   "dataSources": [
    {
     "datasetId": 729058,
     "sourceId": 1265963,
     "sourceType": "datasetVersion"
    }
   ],
   "dockerImageVersionId": 31089,
   "isGpuEnabled": false,
   "isInternetEnabled": true,
   "language": "python",
   "sourceType": "notebook"
  },
  "kernelspec": {
   "display_name": "Python 3",
   "language": "python",
   "name": "python3"
  },
  "language_info": {
   "codemirror_mode": {
    "name": "ipython",
    "version": 3
   },
   "file_extension": ".py",
   "mimetype": "text/x-python",
   "name": "python",
   "nbconvert_exporter": "python",
   "pygments_lexer": "ipython3",
   "version": "3.11.13"
  },
  "papermill": {
   "default_parameters": {},
   "duration": 140.001227,
   "end_time": "2025-09-23T09:27:10.481285",
   "environment_variables": {},
   "exception": null,
   "input_path": "__notebook__.ipynb",
   "output_path": "__notebook__.ipynb",
   "parameters": {},
   "start_time": "2025-09-23T09:24:50.480058",
   "version": "2.6.0"
  }
 },
 "nbformat": 4,
 "nbformat_minor": 5
}
